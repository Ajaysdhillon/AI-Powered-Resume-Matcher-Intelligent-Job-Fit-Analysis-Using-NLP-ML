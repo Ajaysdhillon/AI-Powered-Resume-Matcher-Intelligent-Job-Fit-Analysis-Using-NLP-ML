{
 "cells": [
  {
   "cell_type": "code",
   "execution_count": 1,
   "id": "dadf8321-092a-4fcc-8307-4a22e90e7148",
   "metadata": {},
   "outputs": [
    {
     "ename": "SyntaxError",
     "evalue": "invalid syntax (746932054.py, line 1)",
     "output_type": "error",
     "traceback": [
      "  \u001b[36mCell\u001b[39m\u001b[36m \u001b[39m\u001b[32mIn[1]\u001b[39m\u001b[32m, line 1\u001b[39m\n\u001b[31m    \u001b[39m\u001b[31mpip install pymupdf\u001b[39m\n        ^\n\u001b[31mSyntaxError\u001b[39m\u001b[31m:\u001b[39m invalid syntax\n"
     ]
    }
   ],
   "source": [
    "pip install pymupdf\n",
    "pip install nltk\n"
   ]
  },
  {
   "cell_type": "code",
   "execution_count": 9,
   "id": "148d89a7-10ad-476f-be7c-814f11c172e2",
   "metadata": {},
   "outputs": [
    {
     "name": "stderr",
     "output_type": "stream",
     "text": [
      "[nltk_data] Downloading package punkt to\n",
      "[nltk_data]     C:\\Users\\VE00YM679\\AppData\\Roaming\\nltk_data...\n",
      "[nltk_data]   Package punkt is already up-to-date!\n",
      "[nltk_data] Downloading package wordnet to\n",
      "[nltk_data]     C:\\Users\\VE00YM679\\AppData\\Roaming\\nltk_data...\n",
      "[nltk_data]   Package wordnet is already up-to-date!\n",
      "[nltk_data] Downloading package stopwords to\n",
      "[nltk_data]     C:\\Users\\VE00YM679\\AppData\\Roaming\\nltk_data...\n",
      "[nltk_data]   Package stopwords is already up-to-date!\n"
     ]
    },
    {
     "name": "stdout",
     "output_type": "stream",
     "text": [
      "Best Fit Resume: TESTX.pdf\n",
      "Similarity Score: [[0.44422579]]\n"
     ]
    }
   ],
   "source": [
    "import fitz  # PyMuPDF for PDF extraction\n",
    "import re\n",
    "import nltk\n",
    "from nltk.corpus import stopwords\n",
    "from nltk.tokenize import word_tokenize\n",
    "from nltk.stem import WordNetLemmatizer\n",
    "import pandas as pd\n",
    "from sklearn.feature_extraction.text import TfidfVectorizer\n",
    "from sklearn.metrics.pairwise import cosine_similarity\n",
    "\n",
    "import joblib\n",
    "\n",
    "\n",
    "# Download necessary NLTK data\n",
    "nltk.download('punkt')\n",
    "nltk.download('wordnet')\n",
    "nltk.download('stopwords')\n",
    "\n",
    "# Function to extract text from PDF\n",
    "def extract_text_from_pdf(pdf_path):\n",
    "    try:\n",
    "        doc = fitz.open(pdf_path)\n",
    "        text = \"\"\n",
    "        for page_num in range(doc.page_count):\n",
    "            page = doc.load_page(page_num)\n",
    "            text += page.get_text()\n",
    "        return text\n",
    "    except Exception as e:\n",
    "        print(f\"Error reading PDF: {e}\")\n",
    "        return \"\"\n",
    "\n",
    "# Initialize Lemmatizer and stopwords\n",
    "lemmatizer = WordNetLemmatizer()\n",
    "stop_words = set(stopwords.words('english'))\n",
    "\n",
    "# Text preprocessing function\n",
    "def preprocess_text(text):\n",
    "    try:\n",
    "        text = str(text).lower()  # Convert to lowercase\n",
    "        text = re.sub(r'\\W', ' ', text)  # Remove non-alphabetic characters\n",
    "        text = re.sub(r'\\d+', '', text)  # Remove digits\n",
    "        tokens = word_tokenize(text)\n",
    "        tokens = [word for word in tokens if word not in stop_words]\n",
    "        tokens = [lemmatizer.lemmatize(word) for word in tokens]\n",
    "        return \" \".join(tokens)\n",
    "    except Exception as e:\n",
    "        print(f\"Error processing text: {e}\")\n",
    "        return \"\"\n",
    "\n",
    "# Load pre-trained model and vectorizer\n",
    "svm_model = joblib.load(\"svm_model.pkl\")\n",
    "tfidf_vectorizer = joblib.load(\"tfidf_vectorizer.pkl\")\n",
    "\n",
    "# Function to classify resumes\n",
    "def classify_resumes(job_description, resumes):\n",
    "    # Preprocess the job description\n",
    "    job_desc_cleaned = preprocess_text(job_description)\n",
    "\n",
    "    # Preprocess and vectorize the job description\n",
    "    job_desc_tfidf = tfidf_vectorizer.transform([job_desc_cleaned])\n",
    "\n",
    "    # Create a list to hold predictions\n",
    "    best_fit = None\n",
    "    best_similarity = -1\n",
    "\n",
    "    for resume in resumes:\n",
    "        # Extract text from each resume (assumed to be in PDF format)\n",
    "        resume_text = extract_text_from_pdf(resume)\n",
    "        \n",
    "        if not resume_text:\n",
    "            print(f\"Could not extract text from {resume}. Skipping.\")\n",
    "            continue\n",
    "        \n",
    "        # Preprocess the resume text\n",
    "        resume_cleaned = preprocess_text(resume_text)\n",
    "\n",
    "        # Vectorize the resume\n",
    "        resume_tfidf = tfidf_vectorizer.transform([resume_cleaned])\n",
    "\n",
    "        # Get the similarity score between job description and resume\n",
    "        similarity = cosine_similarity(job_desc_tfidf, resume_tfidf)\n",
    "\n",
    "        if similarity > best_similarity:\n",
    "            best_similarity = similarity\n",
    "            best_fit = resume\n",
    "\n",
    "    return best_fit, best_similarity\n",
    "\n",
    "# Example usage\n",
    "job_description = \"We are looking for a passionate and driven Full Stack Software Engineer to join our growing engineering team. You will be responsible for developing scalable and maintainable web applications across the stack — from designing robust APIs to crafting responsive front-end interfaces.\"\n",
    "resumes = [\"Test1 (1).pdf\", \"Test1 (2).pdf\", \"Test1 (3).pdf\", \"Test2 (1).pdf\", \"Test2 (2).pdf\", \"Test2 (3).pdf\", \"TESTX.pdf\"]  # Add paths to your PDF resumes\n",
    "\n",
    "best_resume, similarity_score = classify_resumes(job_description, resumes)\n",
    "\n",
    "print(f\"Best Fit Resume: {best_resume}\")\n",
    "print(f\"Similarity Score: {similarity_score}\")\n"
   ]
  },
  {
   "cell_type": "code",
   "execution_count": null,
   "id": "90fa80e3-8821-4156-beaa-3a59b555017f",
   "metadata": {},
   "outputs": [],
   "source": []
  }
 ],
 "metadata": {
  "kernelspec": {
   "display_name": "Python 3 (ipykernel)",
   "language": "python",
   "name": "python3"
  },
  "language_info": {
   "codemirror_mode": {
    "name": "ipython",
    "version": 3
   },
   "file_extension": ".py",
   "mimetype": "text/x-python",
   "name": "python",
   "nbconvert_exporter": "python",
   "pygments_lexer": "ipython3",
   "version": "3.12.0"
  }
 },
 "nbformat": 4,
 "nbformat_minor": 5
}
